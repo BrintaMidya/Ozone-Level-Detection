{
 "cells": [
  {
   "cell_type": "markdown",
   "metadata": {},
   "source": [
    "<h1>Ozone Level Detection using KNN, SVM and Random Forest</h1>\n",
    "   <p> We will be using Python with some required libraries such as numpy, pandas, matplotlib and sklearn to load,preprocess the data and to train, test and evaluate our machine learning models .\n",
    "we will use knn, svm and random forest algorithms for training our models.\n",
    "Firstly we need to import all the required libraries.<p>"
   ]
  },
  {
   "cell_type": "code",
   "execution_count": 1,
   "metadata": {},
   "outputs": [],
   "source": [
    "import numpy as np\n",
    "import pandas as pd\n",
    "import matplotlib.pyplot as plt\n",
    "from sklearn.neighbors import KNeighborsClassifier as KNN\n",
    "from sklearn.model_selection import train_test_split\n",
    "from sklearn import metrics"
   ]
  },
  {
   "cell_type": "markdown",
   "metadata": {},
   "source": [
    "Now the dataset is imported and analysed"
   ]
  },
  {
   "cell_type": "code",
   "execution_count": 2,
   "metadata": {},
   "outputs": [
    {
     "name": "stdout",
     "output_type": "stream",
     "text": [
      "         0    1    2    3    4    5    6    7    8    9  ...     64     65  \\\n",
      "0  1/1/1998  0.8  1.8  2.4  2.1    2  2.1  1.5  1.7  1.9 ...   0.15  10.67   \n",
      "1  1/2/1998  2.8  3.2  3.3  2.7  3.3  3.2  2.9  2.8  3.1 ...   0.48   8.39   \n",
      "2  1/3/1998  2.9  2.8  2.6  2.1  2.2  2.5  2.5  2.7  2.2 ...    0.6   6.94   \n",
      "3  1/4/1998  4.7  3.8  3.7  3.8  2.9  3.1  2.8  2.5  2.4 ...   0.49   8.73   \n",
      "4  1/5/1998  2.6  2.1  1.6  1.4  0.9  1.5  1.2  1.4  1.3 ...      ?      ?   \n",
      "\n",
      "      66    67     68    69     70   71    72   73  \n",
      "0  -1.56  5795  -12.1  17.9  10330  -55     0  0.0  \n",
      "1   3.84  5805  14.05    29  10275  -55     0  0.0  \n",
      "2    9.8  5790   17.9  41.3  10235  -40     0  0.0  \n",
      "3  10.54  5775  31.15  51.7  10195  -40  2.08  0.0  \n",
      "4      ?     ?      ?     ?      ?    ?  0.58  0.0  \n",
      "\n",
      "[5 rows x 74 columns]\n",
      "(2534, 74)\n"
     ]
    }
   ],
   "source": [
    "data = pd.read_csv(\"eighthr_data.csv\",header=None)\n",
    "print(data.head())\n",
    "print(data.shape)"
   ]
  },
  {
   "cell_type": "markdown",
   "metadata": {},
   "source": [
    "Next The features ad labels are extracted from the dataset and preprocessed"
   ]
  },
  {
   "cell_type": "code",
   "execution_count": 3,
   "metadata": {},
   "outputs": [],
   "source": [
    "x = data.iloc[:,1:-1]\n",
    "y = data.iloc[:,-1]"
   ]
  },
  {
   "cell_type": "code",
   "execution_count": 4,
   "metadata": {},
   "outputs": [],
   "source": [
    "y = y.astype(int)\n",
    "x = x.replace(\"?\",np.nan)\n",
    "x = x.apply(pd.to_numeric)\n",
    "x = x.where(pd.notna(x), x.mean(), axis='columns')"
   ]
  },
  {
   "cell_type": "markdown",
   "metadata": {},
   "source": [
    "The data is splited into training data ad testing data"
   ]
  },
  {
   "cell_type": "code",
   "execution_count": 5,
   "metadata": {},
   "outputs": [
    {
     "name": "stdout",
     "output_type": "stream",
     "text": [
      "(1773, 72)\n",
      "(761, 72)\n",
      "(1773,)\n",
      "(761,)\n"
     ]
    }
   ],
   "source": [
    "x_train,x_test,y_train,y_test = train_test_split(x,y,test_size = 0.3,random_state = 200)\n",
    "print(x_train.shape)\n",
    "print(x_test.shape)\n",
    "print(y_train.shape)\n",
    "print(y_test.shape)"
   ]
  },
  {
   "cell_type": "markdown",
   "metadata": {},
   "source": [
    "<h3>K Nearest Neighours Algorithm</h3>\n",
    "<p>Firstly the suitable k is selected for the model.</p>"
   ]
  },
  {
   "cell_type": "code",
   "execution_count": 6,
   "metadata": {},
   "outputs": [
    {
     "name": "stdout",
     "output_type": "stream",
     "text": [
      "k = 11 \n",
      "accuracy =  0.9461235216819974\n"
     ]
    }
   ],
   "source": [
    "scores = {}\n",
    "scoreL = []\n",
    "k = 0\n",
    "maxAcc = 0\n",
    "for i in range(1,50):\n",
    "    knn = KNN(n_neighbors=i)\n",
    "    knn.fit(x_train,y_train)\n",
    "    y_pred = knn.predict(x_test)\n",
    "    acc = metrics.accuracy_score(y_test,y_pred)\n",
    "    scores[i] = acc\n",
    "    scoreL.append(acc)\n",
    "    if acc > maxAcc:\n",
    "        maxAcc = acc\n",
    "        k = i\n",
    "print(\"k =\",k,\"\\naccuracy = \",maxAcc)"
   ]
  },
  {
   "cell_type": "code",
   "execution_count": 7,
   "metadata": {},
   "outputs": [
    {
     "data": {
      "text/plain": [
       "Text(0,0.5,'testing accuracy')"
      ]
     },
     "execution_count": 7,
     "metadata": {},
     "output_type": "execute_result"
    },
    {
     "data": {
      "image/png": "[encoded data removed]",
      "text/plain": [
       "<Figure size 432x288 with 1 Axes>"
      ]
     },
     "metadata": {},
     "output_type": "display_data"
    }
   ],
   "source": [
    "plt.plot(range(1,50),scoreL)\n",
    "plt.xlabel(\"value of k\")\n",
    "plt.ylabel(\"testing accuracy\")"
   ]
  },
  {
   "cell_type": "markdown",
   "metadata": {},
   "source": [
    "Since we have found the suitable k, we will train our model."
   ]
  },
  {
   "cell_type": "code",
   "execution_count": 8,
   "metadata": {},
   "outputs": [],
   "source": [
    "knn = KNN(n_neighbors=k)\n",
    "knn.fit(x_train,y_train)\n",
    "y_pred_knn = knn.predict(x_test)\n"
   ]
  },
  {
   "cell_type": "markdown",
   "metadata": {},
   "source": [
    "The Model is Evalueted"
   ]
  },
  {
   "cell_type": "code",
   "execution_count": 9,
   "metadata": {},
   "outputs": [
    {
     "name": "stdout",
     "output_type": "stream",
     "text": [
      "accuracy =  0.9461235216819974\n",
      "cofusion matrix ->  \n",
      " [[718   0]\n",
      " [ 41   2]]\n",
      "             precision    recall  f1-score   support\n",
      "\n",
      "          0       0.95      1.00      0.97       718\n",
      "          1       1.00      0.05      0.09        43\n",
      "\n",
      "avg / total       0.95      0.95      0.92       761\n",
      "\n"
     ]
    }
   ],
   "source": [
    "print(\"accuracy = \",metrics.accuracy_score(y_test,y_pred_knn))\n",
    "print(\"cofusion matrix -> \",\"\\n\",metrics.confusion_matrix(y_test,y_pred_knn))\n",
    "print(metrics.classification_report(y_test,y_pred_knn))"
   ]
  },
  {
   "cell_type": "markdown",
   "metadata": {},
   "source": [
    "<h3>SVM Algorithm</h3>\n",
    "<p>Firstly the module is imported and the model is trained.</p>"
   ]
  },
  {
   "cell_type": "code",
   "execution_count": 10,
   "metadata": {},
   "outputs": [
    {
     "name": "stdout",
     "output_type": "stream",
     "text": [
      "0.9461235216819974\n"
     ]
    }
   ],
   "source": [
    "from sklearn.svm import SVC\n",
    "svclassifier = SVC(kernel = 'poly',degree=2)\n",
    "svclassifier.fit(x_train,y_train)\n",
    "y_pred_svm = svclassifier.predict(x_test)\n",
    "print(metrics.accuracy_score(y_test,y_pred_svm))"
   ]
  },
  {
   "cell_type": "markdown",
   "metadata": {},
   "source": [
    "The model is evalueted now"
   ]
  },
  {
   "cell_type": "code",
   "execution_count": 11,
   "metadata": {},
   "outputs": [
    {
     "name": "stdout",
     "output_type": "stream",
     "text": [
      "[[709   9]\n",
      " [ 32  11]]\n",
      "             precision    recall  f1-score   support\n",
      "\n",
      "          0       0.96      0.99      0.97       718\n",
      "          1       0.55      0.26      0.35        43\n",
      "\n",
      "avg / total       0.93      0.95      0.94       761\n",
      "\n"
     ]
    }
   ],
   "source": [
    "print(metrics.confusion_matrix(y_test,y_pred_svm))\n",
    "print(metrics.classification_report(y_test,y_pred_svm))"
   ]
  },
  {
   "cell_type": "markdown",
   "metadata": {},
   "source": [
    "<h3>Random Forest Algorithm</h3>\n",
    "<p>First the module is imported and then the model is trained and evalueted</p>"
   ]
  },
  {
   "cell_type": "code",
   "execution_count": 12,
   "metadata": {},
   "outputs": [],
   "source": [
    "from sklearn.ensemble import RandomForestClassifier"
   ]
  },
  {
   "cell_type": "code",
   "execution_count": 34,
   "metadata": {},
   "outputs": [
    {
     "name": "stdout",
     "output_type": "stream",
     "text": [
      "accuracy =  0.9500657030223391\n",
      "confusion matrix = \n",
      " [[713   5]\n",
      " [ 33  10]]\n",
      "             precision    recall  f1-score   support\n",
      "\n",
      "          0       0.96      0.99      0.97       718\n",
      "          1       0.67      0.23      0.34        43\n",
      "\n",
      "avg / total       0.94      0.95      0.94       761\n",
      "\n"
     ]
    }
   ],
   "source": [
    "clf = RandomForestClassifier(n_estimators=15)\n",
    "clf.fit(x_train,y_train)\n",
    "y_pred_rfc = clf.predict(x_test)\n",
    "print(\"accuracy = \",metrics.accuracy_score(y_test,y_pred_rfc))\n",
    "print(\"confusion matrix = \\n\",metrics.confusion_matrix(y_test,y_pred_rfc))\n",
    "print(metrics.classification_report(y_test,y_pred_rfc))"
   ]
  },
  {
   "cell_type": "markdown",
   "metadata": {},
   "source": [
    "<h2>Comparison</h2>\n",
    "<p>After comparing the reports we can pick the Random Forest Algorithm as the most suitale algorithm for this data.\n",
    "Since the data is skewed, knn could not generalise the data well while svm and radom forest algorithm has doe a good job in generalising. That is why svm and radom forest got a better f1 score than the knn algorithm. Since the Random Forest algorithm has a etter accuracy score, we chose this algorithm as the most suitale for this dataset .</p>"
   ]
  },
  {
   "cell_type": "code",
   "execution_count": null,
   "metadata": {},
   "outputs": [],
   "source": []
  }
 ],
 "metadata": {
  "kernelspec": {
   "display_name": "Python 3",
   "language": "python",
   "name": "python3"
  },
  "language_info": {
   "codemirror_mode": {
    "name": "ipython",
    "version": 3
   },
   "file_extension": ".py",
   "mimetype": "text/x-python",
   "name": "python",
   "nbconvert_exporter": "python",
   "pygments_lexer": "ipython3",
   "version": "3.6.5"
  }
 },
 "nbformat": 4,
 "nbformat_minor": 2
}
